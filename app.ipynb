{
  "nbformat": 4,
  "nbformat_minor": 0,
  "metadata": {
    "colab": {
      "provenance": [],
      "authorship_tag": "ABX9TyPsd622Pwju/YUT/lk0KJbR",
      "include_colab_link": true
    },
    "kernelspec": {
      "name": "python3",
      "display_name": "Python 3"
    },
    "language_info": {
      "name": "python"
    }
  },
  "cells": [
    {
      "cell_type": "markdown",
      "metadata": {
        "id": "view-in-github",
        "colab_type": "text"
      },
      "source": [
        "<a href=\"https://colab.research.google.com/github/mucahitozkaya/data_zdg/blob/main/app.ipynb\" target=\"_parent\"><img src=\"https://colab.research.google.com/assets/colab-badge.svg\" alt=\"Open In Colab\"/></a>"
      ]
    },
    {
      "cell_type": "code",
      "execution_count": null,
      "metadata": {
        "id": "jU1KfFZc0qi2"
      },
      "outputs": [],
      "source": [
        "import pandas as pd"
      ]
    },
    {
      "cell_type": "code",
      "source": [
        "holidays = pd.read_csv(\"https://drive.google.com/uc?id=1yjb8mMgM38Wz0VhdugOk6qhtGYrTRt3a\")\n",
        "sample_submission = pd.read_csv(\"https://drive.google.com/uc?id=1Fc7OQ6-H2rVVkd5ispwujvgSKR3EXibP\")\n",
        "test = pd.read_csv(\"https://drive.google.com/uc?id=1TPnRrYH0ggj1nLM5C56CRKkdXM9CZPZ8\")\n",
        "train = pd.read_csv(\"https://drive.google.com/uc?id=1pdRbeH81YTfzcRvUeAEtuTV15nSEyIKA\")\n",
        "weather = pd.read_csv(\"https://drive.google.com/uc?id=102junsVL8cAGvyqZon8roo298X7mrfK9\")"
      ],
      "metadata": {
        "id": "yH8de2xc5tEK"
      },
      "execution_count": null,
      "outputs": []
    }
  ]
}